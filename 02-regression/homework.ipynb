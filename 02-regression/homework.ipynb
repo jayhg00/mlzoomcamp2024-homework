{
 "cells": [
  {
   "cell_type": "code",
   "execution_count": 2,
   "id": "ed99735d",
   "metadata": {},
   "outputs": [],
   "source": [
    "import pandas as pd\n",
    "import numpy as np"
   ]
  },
  {
   "cell_type": "code",
   "execution_count": 3,
   "id": "291306d4",
   "metadata": {},
   "outputs": [
    {
     "data": {
      "text/html": [
       "<div>\n",
       "<style scoped>\n",
       "    .dataframe tbody tr th:only-of-type {\n",
       "        vertical-align: middle;\n",
       "    }\n",
       "\n",
       "    .dataframe tbody tr th {\n",
       "        vertical-align: top;\n",
       "    }\n",
       "\n",
       "    .dataframe thead th {\n",
       "        text-align: right;\n",
       "    }\n",
       "</style>\n",
       "<table border=\"1\" class=\"dataframe\">\n",
       "  <thead>\n",
       "    <tr style=\"text-align: right;\">\n",
       "      <th></th>\n",
       "      <th>Laptop</th>\n",
       "      <th>Status</th>\n",
       "      <th>Brand</th>\n",
       "      <th>Model</th>\n",
       "      <th>CPU</th>\n",
       "      <th>RAM</th>\n",
       "      <th>Storage</th>\n",
       "      <th>Storage type</th>\n",
       "      <th>GPU</th>\n",
       "      <th>Screen</th>\n",
       "      <th>Touch</th>\n",
       "      <th>Final Price</th>\n",
       "    </tr>\n",
       "  </thead>\n",
       "  <tbody>\n",
       "    <tr>\n",
       "      <th>0</th>\n",
       "      <td>ASUS ExpertBook B1 B1502CBA-EJ0436X Intel Core...</td>\n",
       "      <td>New</td>\n",
       "      <td>Asus</td>\n",
       "      <td>ExpertBook</td>\n",
       "      <td>Intel Core i5</td>\n",
       "      <td>8</td>\n",
       "      <td>512</td>\n",
       "      <td>SSD</td>\n",
       "      <td>NaN</td>\n",
       "      <td>15.6</td>\n",
       "      <td>No</td>\n",
       "      <td>1009.00</td>\n",
       "    </tr>\n",
       "    <tr>\n",
       "      <th>1</th>\n",
       "      <td>Alurin Go Start Intel Celeron N4020/8GB/256GB ...</td>\n",
       "      <td>New</td>\n",
       "      <td>Alurin</td>\n",
       "      <td>Go</td>\n",
       "      <td>Intel Celeron</td>\n",
       "      <td>8</td>\n",
       "      <td>256</td>\n",
       "      <td>SSD</td>\n",
       "      <td>NaN</td>\n",
       "      <td>15.6</td>\n",
       "      <td>No</td>\n",
       "      <td>299.00</td>\n",
       "    </tr>\n",
       "    <tr>\n",
       "      <th>2</th>\n",
       "      <td>ASUS ExpertBook B1 B1502CBA-EJ0424X Intel Core...</td>\n",
       "      <td>New</td>\n",
       "      <td>Asus</td>\n",
       "      <td>ExpertBook</td>\n",
       "      <td>Intel Core i3</td>\n",
       "      <td>8</td>\n",
       "      <td>256</td>\n",
       "      <td>SSD</td>\n",
       "      <td>NaN</td>\n",
       "      <td>15.6</td>\n",
       "      <td>No</td>\n",
       "      <td>789.00</td>\n",
       "    </tr>\n",
       "    <tr>\n",
       "      <th>3</th>\n",
       "      <td>MSI Katana GF66 12UC-082XES Intel Core i7-1270...</td>\n",
       "      <td>New</td>\n",
       "      <td>MSI</td>\n",
       "      <td>Katana</td>\n",
       "      <td>Intel Core i7</td>\n",
       "      <td>16</td>\n",
       "      <td>1000</td>\n",
       "      <td>SSD</td>\n",
       "      <td>RTX 3050</td>\n",
       "      <td>15.6</td>\n",
       "      <td>No</td>\n",
       "      <td>1199.00</td>\n",
       "    </tr>\n",
       "    <tr>\n",
       "      <th>4</th>\n",
       "      <td>HP 15S-FQ5085NS Intel Core i5-1235U/16GB/512GB...</td>\n",
       "      <td>New</td>\n",
       "      <td>HP</td>\n",
       "      <td>15S</td>\n",
       "      <td>Intel Core i5</td>\n",
       "      <td>16</td>\n",
       "      <td>512</td>\n",
       "      <td>SSD</td>\n",
       "      <td>NaN</td>\n",
       "      <td>15.6</td>\n",
       "      <td>No</td>\n",
       "      <td>669.01</td>\n",
       "    </tr>\n",
       "  </tbody>\n",
       "</table>\n",
       "</div>"
      ],
      "text/plain": [
       "                                              Laptop Status   Brand  \\\n",
       "0  ASUS ExpertBook B1 B1502CBA-EJ0436X Intel Core...    New    Asus   \n",
       "1  Alurin Go Start Intel Celeron N4020/8GB/256GB ...    New  Alurin   \n",
       "2  ASUS ExpertBook B1 B1502CBA-EJ0424X Intel Core...    New    Asus   \n",
       "3  MSI Katana GF66 12UC-082XES Intel Core i7-1270...    New     MSI   \n",
       "4  HP 15S-FQ5085NS Intel Core i5-1235U/16GB/512GB...    New      HP   \n",
       "\n",
       "        Model            CPU  RAM  Storage Storage type       GPU  Screen  \\\n",
       "0  ExpertBook  Intel Core i5    8      512          SSD       NaN    15.6   \n",
       "1          Go  Intel Celeron    8      256          SSD       NaN    15.6   \n",
       "2  ExpertBook  Intel Core i3    8      256          SSD       NaN    15.6   \n",
       "3      Katana  Intel Core i7   16     1000          SSD  RTX 3050    15.6   \n",
       "4         15S  Intel Core i5   16      512          SSD       NaN    15.6   \n",
       "\n",
       "  Touch  Final Price  \n",
       "0    No      1009.00  \n",
       "1    No       299.00  \n",
       "2    No       789.00  \n",
       "3    No      1199.00  \n",
       "4    No       669.01  "
      ]
     },
     "execution_count": 3,
     "metadata": {},
     "output_type": "execute_result"
    }
   ],
   "source": [
    "data = pd.read_csv('laptops.csv')\n",
    "data.head()"
   ]
  },
  {
   "cell_type": "code",
   "execution_count": 4,
   "id": "2df7f80a",
   "metadata": {},
   "outputs": [
    {
     "data": {
      "text/html": [
       "<div>\n",
       "<style scoped>\n",
       "    .dataframe tbody tr th:only-of-type {\n",
       "        vertical-align: middle;\n",
       "    }\n",
       "\n",
       "    .dataframe tbody tr th {\n",
       "        vertical-align: top;\n",
       "    }\n",
       "\n",
       "    .dataframe thead th {\n",
       "        text-align: right;\n",
       "    }\n",
       "</style>\n",
       "<table border=\"1\" class=\"dataframe\">\n",
       "  <thead>\n",
       "    <tr style=\"text-align: right;\">\n",
       "      <th></th>\n",
       "      <th>laptop</th>\n",
       "      <th>status</th>\n",
       "      <th>brand</th>\n",
       "      <th>model</th>\n",
       "      <th>cpu</th>\n",
       "      <th>ram</th>\n",
       "      <th>storage</th>\n",
       "      <th>storage_type</th>\n",
       "      <th>gpu</th>\n",
       "      <th>screen</th>\n",
       "      <th>touch</th>\n",
       "      <th>final_price</th>\n",
       "    </tr>\n",
       "  </thead>\n",
       "  <tbody>\n",
       "    <tr>\n",
       "      <th>0</th>\n",
       "      <td>ASUS ExpertBook B1 B1502CBA-EJ0436X Intel Core...</td>\n",
       "      <td>New</td>\n",
       "      <td>Asus</td>\n",
       "      <td>ExpertBook</td>\n",
       "      <td>Intel Core i5</td>\n",
       "      <td>8</td>\n",
       "      <td>512</td>\n",
       "      <td>SSD</td>\n",
       "      <td>NaN</td>\n",
       "      <td>15.6</td>\n",
       "      <td>No</td>\n",
       "      <td>1009.00</td>\n",
       "    </tr>\n",
       "    <tr>\n",
       "      <th>1</th>\n",
       "      <td>Alurin Go Start Intel Celeron N4020/8GB/256GB ...</td>\n",
       "      <td>New</td>\n",
       "      <td>Alurin</td>\n",
       "      <td>Go</td>\n",
       "      <td>Intel Celeron</td>\n",
       "      <td>8</td>\n",
       "      <td>256</td>\n",
       "      <td>SSD</td>\n",
       "      <td>NaN</td>\n",
       "      <td>15.6</td>\n",
       "      <td>No</td>\n",
       "      <td>299.00</td>\n",
       "    </tr>\n",
       "    <tr>\n",
       "      <th>2</th>\n",
       "      <td>ASUS ExpertBook B1 B1502CBA-EJ0424X Intel Core...</td>\n",
       "      <td>New</td>\n",
       "      <td>Asus</td>\n",
       "      <td>ExpertBook</td>\n",
       "      <td>Intel Core i3</td>\n",
       "      <td>8</td>\n",
       "      <td>256</td>\n",
       "      <td>SSD</td>\n",
       "      <td>NaN</td>\n",
       "      <td>15.6</td>\n",
       "      <td>No</td>\n",
       "      <td>789.00</td>\n",
       "    </tr>\n",
       "    <tr>\n",
       "      <th>3</th>\n",
       "      <td>MSI Katana GF66 12UC-082XES Intel Core i7-1270...</td>\n",
       "      <td>New</td>\n",
       "      <td>MSI</td>\n",
       "      <td>Katana</td>\n",
       "      <td>Intel Core i7</td>\n",
       "      <td>16</td>\n",
       "      <td>1000</td>\n",
       "      <td>SSD</td>\n",
       "      <td>RTX 3050</td>\n",
       "      <td>15.6</td>\n",
       "      <td>No</td>\n",
       "      <td>1199.00</td>\n",
       "    </tr>\n",
       "    <tr>\n",
       "      <th>4</th>\n",
       "      <td>HP 15S-FQ5085NS Intel Core i5-1235U/16GB/512GB...</td>\n",
       "      <td>New</td>\n",
       "      <td>HP</td>\n",
       "      <td>15S</td>\n",
       "      <td>Intel Core i5</td>\n",
       "      <td>16</td>\n",
       "      <td>512</td>\n",
       "      <td>SSD</td>\n",
       "      <td>NaN</td>\n",
       "      <td>15.6</td>\n",
       "      <td>No</td>\n",
       "      <td>669.01</td>\n",
       "    </tr>\n",
       "  </tbody>\n",
       "</table>\n",
       "</div>"
      ],
      "text/plain": [
       "                                              laptop status   brand  \\\n",
       "0  ASUS ExpertBook B1 B1502CBA-EJ0436X Intel Core...    New    Asus   \n",
       "1  Alurin Go Start Intel Celeron N4020/8GB/256GB ...    New  Alurin   \n",
       "2  ASUS ExpertBook B1 B1502CBA-EJ0424X Intel Core...    New    Asus   \n",
       "3  MSI Katana GF66 12UC-082XES Intel Core i7-1270...    New     MSI   \n",
       "4  HP 15S-FQ5085NS Intel Core i5-1235U/16GB/512GB...    New      HP   \n",
       "\n",
       "        model            cpu  ram  storage storage_type       gpu  screen  \\\n",
       "0  ExpertBook  Intel Core i5    8      512          SSD       NaN    15.6   \n",
       "1          Go  Intel Celeron    8      256          SSD       NaN    15.6   \n",
       "2  ExpertBook  Intel Core i3    8      256          SSD       NaN    15.6   \n",
       "3      Katana  Intel Core i7   16     1000          SSD  RTX 3050    15.6   \n",
       "4         15S  Intel Core i5   16      512          SSD       NaN    15.6   \n",
       "\n",
       "  touch  final_price  \n",
       "0    No      1009.00  \n",
       "1    No       299.00  \n",
       "2    No       789.00  \n",
       "3    No      1199.00  \n",
       "4    No       669.01  "
      ]
     },
     "execution_count": 4,
     "metadata": {},
     "output_type": "execute_result"
    }
   ],
   "source": [
    "## Normalize the column names\n",
    "data.columns = data.columns.str.replace(' ','_').str.lower()\n",
    "data.head()"
   ]
  },
  {
   "cell_type": "markdown",
   "id": "c20e0b6e",
   "metadata": {},
   "source": [
    "Next, use only the following columns:\n",
    "\n",
    "'ram',\n",
    "'storage',\n",
    "'screen',\n",
    "'final_price'"
   ]
  },
  {
   "cell_type": "code",
   "execution_count": 5,
   "id": "3ad39bbc",
   "metadata": {},
   "outputs": [
    {
     "data": {
      "text/html": [
       "<div>\n",
       "<style scoped>\n",
       "    .dataframe tbody tr th:only-of-type {\n",
       "        vertical-align: middle;\n",
       "    }\n",
       "\n",
       "    .dataframe tbody tr th {\n",
       "        vertical-align: top;\n",
       "    }\n",
       "\n",
       "    .dataframe thead th {\n",
       "        text-align: right;\n",
       "    }\n",
       "</style>\n",
       "<table border=\"1\" class=\"dataframe\">\n",
       "  <thead>\n",
       "    <tr style=\"text-align: right;\">\n",
       "      <th></th>\n",
       "      <th>ram</th>\n",
       "      <th>storage</th>\n",
       "      <th>screen</th>\n",
       "      <th>final_price</th>\n",
       "    </tr>\n",
       "  </thead>\n",
       "  <tbody>\n",
       "    <tr>\n",
       "      <th>0</th>\n",
       "      <td>8</td>\n",
       "      <td>512</td>\n",
       "      <td>15.6</td>\n",
       "      <td>1009.00</td>\n",
       "    </tr>\n",
       "    <tr>\n",
       "      <th>1</th>\n",
       "      <td>8</td>\n",
       "      <td>256</td>\n",
       "      <td>15.6</td>\n",
       "      <td>299.00</td>\n",
       "    </tr>\n",
       "    <tr>\n",
       "      <th>2</th>\n",
       "      <td>8</td>\n",
       "      <td>256</td>\n",
       "      <td>15.6</td>\n",
       "      <td>789.00</td>\n",
       "    </tr>\n",
       "    <tr>\n",
       "      <th>3</th>\n",
       "      <td>16</td>\n",
       "      <td>1000</td>\n",
       "      <td>15.6</td>\n",
       "      <td>1199.00</td>\n",
       "    </tr>\n",
       "    <tr>\n",
       "      <th>4</th>\n",
       "      <td>16</td>\n",
       "      <td>512</td>\n",
       "      <td>15.6</td>\n",
       "      <td>669.01</td>\n",
       "    </tr>\n",
       "  </tbody>\n",
       "</table>\n",
       "</div>"
      ],
      "text/plain": [
       "   ram  storage  screen  final_price\n",
       "0    8      512    15.6      1009.00\n",
       "1    8      256    15.6       299.00\n",
       "2    8      256    15.6       789.00\n",
       "3   16     1000    15.6      1199.00\n",
       "4   16      512    15.6       669.01"
      ]
     },
     "execution_count": 5,
     "metadata": {},
     "output_type": "execute_result"
    }
   ],
   "source": [
    "col_list = ['ram','storage','screen','final_price']\n",
    "df = data[col_list]\n",
    "df.head()"
   ]
  },
  {
   "cell_type": "markdown",
   "id": "96cc6e00",
   "metadata": {},
   "source": [
    "### Q1. Which column has missing values?\n"
   ]
  },
  {
   "cell_type": "code",
   "execution_count": 6,
   "id": "d5028299",
   "metadata": {},
   "outputs": [
    {
     "data": {
      "text/plain": [
       "np.int64(0)"
      ]
     },
     "execution_count": 6,
     "metadata": {},
     "output_type": "execute_result"
    }
   ],
   "source": [
    "df.ram.isnull().sum()\n",
    "## 0"
   ]
  },
  {
   "cell_type": "code",
   "execution_count": 7,
   "id": "c80dda11",
   "metadata": {},
   "outputs": [
    {
     "data": {
      "text/plain": [
       "np.int64(0)"
      ]
     },
     "execution_count": 7,
     "metadata": {},
     "output_type": "execute_result"
    }
   ],
   "source": [
    "df.storage.isnull().sum()\n",
    "## 0"
   ]
  },
  {
   "cell_type": "code",
   "execution_count": 8,
   "id": "58be43c9",
   "metadata": {},
   "outputs": [
    {
     "data": {
      "text/plain": [
       "np.int64(4)"
      ]
     },
     "execution_count": 8,
     "metadata": {},
     "output_type": "execute_result"
    }
   ],
   "source": [
    "df.screen.isnull().sum()\n",
    "## 4"
   ]
  },
  {
   "cell_type": "code",
   "execution_count": 9,
   "id": "a8ac0b72",
   "metadata": {},
   "outputs": [
    {
     "data": {
      "text/plain": [
       "np.int64(0)"
      ]
     },
     "execution_count": 9,
     "metadata": {},
     "output_type": "execute_result"
    }
   ],
   "source": [
    "df.final_price.isnull().sum()\n",
    "## 0"
   ]
  },
  {
   "cell_type": "markdown",
   "id": "a6459315",
   "metadata": {},
   "source": [
    "### A1: 'Screen' has missing values"
   ]
  },
  {
   "cell_type": "markdown",
   "id": "ded6bf17",
   "metadata": {},
   "source": [
    "### Q2: What's the median (50% percentile) for variable 'ram'?\n",
    "\n",
    "8, \n",
    "16, \n",
    "24, \n",
    "32, "
   ]
  },
  {
   "cell_type": "code",
   "execution_count": 10,
   "id": "809f0031",
   "metadata": {},
   "outputs": [
    {
     "data": {
      "text/html": [
       "<div>\n",
       "<style scoped>\n",
       "    .dataframe tbody tr th:only-of-type {\n",
       "        vertical-align: middle;\n",
       "    }\n",
       "\n",
       "    .dataframe tbody tr th {\n",
       "        vertical-align: top;\n",
       "    }\n",
       "\n",
       "    .dataframe thead th {\n",
       "        text-align: right;\n",
       "    }\n",
       "</style>\n",
       "<table border=\"1\" class=\"dataframe\">\n",
       "  <thead>\n",
       "    <tr style=\"text-align: right;\">\n",
       "      <th></th>\n",
       "      <th>ram</th>\n",
       "      <th>storage</th>\n",
       "      <th>screen</th>\n",
       "      <th>final_price</th>\n",
       "    </tr>\n",
       "  </thead>\n",
       "  <tbody>\n",
       "    <tr>\n",
       "      <th>count</th>\n",
       "      <td>2160.000000</td>\n",
       "      <td>2160.000000</td>\n",
       "      <td>2156.000000</td>\n",
       "      <td>2160.000000</td>\n",
       "    </tr>\n",
       "    <tr>\n",
       "      <th>mean</th>\n",
       "      <td>15.413889</td>\n",
       "      <td>596.294444</td>\n",
       "      <td>15.168112</td>\n",
       "      <td>1312.638509</td>\n",
       "    </tr>\n",
       "    <tr>\n",
       "      <th>std</th>\n",
       "      <td>9.867815</td>\n",
       "      <td>361.220506</td>\n",
       "      <td>1.203329</td>\n",
       "      <td>911.475417</td>\n",
       "    </tr>\n",
       "    <tr>\n",
       "      <th>min</th>\n",
       "      <td>4.000000</td>\n",
       "      <td>0.000000</td>\n",
       "      <td>10.100000</td>\n",
       "      <td>201.050000</td>\n",
       "    </tr>\n",
       "    <tr>\n",
       "      <th>25%</th>\n",
       "      <td>8.000000</td>\n",
       "      <td>256.000000</td>\n",
       "      <td>14.000000</td>\n",
       "      <td>661.082500</td>\n",
       "    </tr>\n",
       "    <tr>\n",
       "      <th>50%</th>\n",
       "      <td>16.000000</td>\n",
       "      <td>512.000000</td>\n",
       "      <td>15.600000</td>\n",
       "      <td>1031.945000</td>\n",
       "    </tr>\n",
       "    <tr>\n",
       "      <th>75%</th>\n",
       "      <td>16.000000</td>\n",
       "      <td>1000.000000</td>\n",
       "      <td>15.600000</td>\n",
       "      <td>1708.970000</td>\n",
       "    </tr>\n",
       "    <tr>\n",
       "      <th>max</th>\n",
       "      <td>128.000000</td>\n",
       "      <td>4000.000000</td>\n",
       "      <td>18.000000</td>\n",
       "      <td>7150.470000</td>\n",
       "    </tr>\n",
       "  </tbody>\n",
       "</table>\n",
       "</div>"
      ],
      "text/plain": [
       "               ram      storage       screen  final_price\n",
       "count  2160.000000  2160.000000  2156.000000  2160.000000\n",
       "mean     15.413889   596.294444    15.168112  1312.638509\n",
       "std       9.867815   361.220506     1.203329   911.475417\n",
       "min       4.000000     0.000000    10.100000   201.050000\n",
       "25%       8.000000   256.000000    14.000000   661.082500\n",
       "50%      16.000000   512.000000    15.600000  1031.945000\n",
       "75%      16.000000  1000.000000    15.600000  1708.970000\n",
       "max     128.000000  4000.000000    18.000000  7150.470000"
      ]
     },
     "execution_count": 10,
     "metadata": {},
     "output_type": "execute_result"
    }
   ],
   "source": [
    "df.describe()"
   ]
  },
  {
   "cell_type": "markdown",
   "id": "d1ceadb1",
   "metadata": {},
   "source": [
    "### A2: Median RAM: 16"
   ]
  },
  {
   "cell_type": "markdown",
   "id": "5a0f42c0",
   "metadata": {},
   "source": [
    "## Prepare and split the dataset\n",
    "- Shuffle the dataset (the filtered one you created above), use seed 42.\n",
    "- Split your data in train/val/test sets, with 60%/20%/20% distribution.\n",
    "Use the same code as in the lectures"
   ]
  },
  {
   "cell_type": "code",
   "execution_count": 11,
   "id": "84465a4a",
   "metadata": {},
   "outputs": [
    {
     "data": {
      "text/html": [
       "<div>\n",
       "<style scoped>\n",
       "    .dataframe tbody tr th:only-of-type {\n",
       "        vertical-align: middle;\n",
       "    }\n",
       "\n",
       "    .dataframe tbody tr th {\n",
       "        vertical-align: top;\n",
       "    }\n",
       "\n",
       "    .dataframe thead th {\n",
       "        text-align: right;\n",
       "    }\n",
       "</style>\n",
       "<table border=\"1\" class=\"dataframe\">\n",
       "  <thead>\n",
       "    <tr style=\"text-align: right;\">\n",
       "      <th></th>\n",
       "      <th>ram</th>\n",
       "      <th>storage</th>\n",
       "      <th>screen</th>\n",
       "      <th>final_price</th>\n",
       "    </tr>\n",
       "  </thead>\n",
       "  <tbody>\n",
       "    <tr>\n",
       "      <th>0</th>\n",
       "      <td>32</td>\n",
       "      <td>1000</td>\n",
       "      <td>15.6</td>\n",
       "      <td>1123.29</td>\n",
       "    </tr>\n",
       "    <tr>\n",
       "      <th>1</th>\n",
       "      <td>4</td>\n",
       "      <td>64</td>\n",
       "      <td>14.1</td>\n",
       "      <td>201.05</td>\n",
       "    </tr>\n",
       "    <tr>\n",
       "      <th>2</th>\n",
       "      <td>32</td>\n",
       "      <td>1000</td>\n",
       "      <td>14.0</td>\n",
       "      <td>997.74</td>\n",
       "    </tr>\n",
       "    <tr>\n",
       "      <th>3</th>\n",
       "      <td>16</td>\n",
       "      <td>512</td>\n",
       "      <td>13.3</td>\n",
       "      <td>1016.00</td>\n",
       "    </tr>\n",
       "    <tr>\n",
       "      <th>4</th>\n",
       "      <td>32</td>\n",
       "      <td>1000</td>\n",
       "      <td>16.0</td>\n",
       "      <td>2739.00</td>\n",
       "    </tr>\n",
       "    <tr>\n",
       "      <th>...</th>\n",
       "      <td>...</td>\n",
       "      <td>...</td>\n",
       "      <td>...</td>\n",
       "      <td>...</td>\n",
       "    </tr>\n",
       "    <tr>\n",
       "      <th>2155</th>\n",
       "      <td>8</td>\n",
       "      <td>512</td>\n",
       "      <td>15.0</td>\n",
       "      <td>1838.29</td>\n",
       "    </tr>\n",
       "    <tr>\n",
       "      <th>2156</th>\n",
       "      <td>8</td>\n",
       "      <td>256</td>\n",
       "      <td>15.6</td>\n",
       "      <td>531.80</td>\n",
       "    </tr>\n",
       "    <tr>\n",
       "      <th>2157</th>\n",
       "      <td>8</td>\n",
       "      <td>256</td>\n",
       "      <td>13.3</td>\n",
       "      <td>765.33</td>\n",
       "    </tr>\n",
       "    <tr>\n",
       "      <th>2158</th>\n",
       "      <td>8</td>\n",
       "      <td>512</td>\n",
       "      <td>14.0</td>\n",
       "      <td>803.61</td>\n",
       "    </tr>\n",
       "    <tr>\n",
       "      <th>2159</th>\n",
       "      <td>32</td>\n",
       "      <td>1000</td>\n",
       "      <td>16.0</td>\n",
       "      <td>2102.18</td>\n",
       "    </tr>\n",
       "  </tbody>\n",
       "</table>\n",
       "<p>2160 rows × 4 columns</p>\n",
       "</div>"
      ],
      "text/plain": [
       "      ram  storage  screen  final_price\n",
       "0      32     1000    15.6      1123.29\n",
       "1       4       64    14.1       201.05\n",
       "2      32     1000    14.0       997.74\n",
       "3      16      512    13.3      1016.00\n",
       "4      32     1000    16.0      2739.00\n",
       "...   ...      ...     ...          ...\n",
       "2155    8      512    15.0      1838.29\n",
       "2156    8      256    15.6       531.80\n",
       "2157    8      256    13.3       765.33\n",
       "2158    8      512    14.0       803.61\n",
       "2159   32     1000    16.0      2102.18\n",
       "\n",
       "[2160 rows x 4 columns]"
      ]
     },
     "execution_count": 11,
     "metadata": {},
     "output_type": "execute_result"
    }
   ],
   "source": [
    "### shuffle with seed 42\n",
    "import random\n",
    "shuffled_df = df.sample(frac=1, random_state=42).reset_index(drop=True)\n",
    "shuffled_df"
   ]
  },
  {
   "cell_type": "code",
   "execution_count": 12,
   "id": "672652ce",
   "metadata": {},
   "outputs": [],
   "source": [
    "### Split the data into train/val/test\n",
    "from sklearn.model_selection import train_test_split\n",
    "df_full_train, df_test = train_test_split(shuffled_df, test_size=0.2, random_state=42)\n",
    "df_train, df_val = train_test_split(df_full_train, test_size=0.25, random_state=42)\n",
    "\n"
   ]
  },
  {
   "cell_type": "markdown",
   "id": "ee2f1c0b",
   "metadata": {},
   "source": [
    "#### Question 3\n",
    "- We need to deal with missing values for the column from Q1.\n",
    "- We have two options: fill it with 0 or with the mean of this variable.\n",
    "- Try both options. For each, train a linear regression model without regularization using the code from the lessons.\n",
    "- For computing the mean, use the training only!\n",
    "- Use the validation dataset to evaluate the models and compare the RMSE of each option.\n",
    "- Round the RMSE scores to 2 decimal digits using round(score, 2)\n",
    "- Which option gives better RMSE?\n",
    "Options:\n",
    "\n",
    "- With 0\n",
    "- With mean\n",
    "- Both are equally good"
   ]
  },
  {
   "cell_type": "markdown",
   "id": "041433e2",
   "metadata": {},
   "source": [
    "#### Case 1: Missing with 0"
   ]
  },
  {
   "cell_type": "code",
   "execution_count": 37,
   "id": "70a4bf0a",
   "metadata": {},
   "outputs": [
    {
     "data": {
      "text/plain": [
       "np.int64(0)"
      ]
     },
     "execution_count": 37,
     "metadata": {},
     "output_type": "execute_result"
    }
   ],
   "source": [
    "shuffled_df_na_zero = shuffled_df.fillna(0)\n",
    "shuffled_df_na_zero.screen.isnull().sum()"
   ]
  },
  {
   "cell_type": "code",
   "execution_count": 38,
   "id": "84427cf6",
   "metadata": {},
   "outputs": [],
   "source": [
    "### Split the data into train/val/test\n",
    "from sklearn.model_selection import train_test_split\n",
    "df_full_train, df_test = train_test_split(shuffled_df_na_zero, test_size=0.2, random_state=42)\n",
    "df_train, df_val = train_test_split(df_full_train, test_size=0.25, random_state=42)\n",
    "\n",
    "### Extract the target vector\n",
    "y_train = df_train.final_price.values\n",
    "y_val = df_val.final_price.values\n",
    "y_test = df_test.final_price.values\n",
    "\n",
    "### remove target column from datasets to avoid accidental usage\n",
    "del df_train['final_price']\n",
    "del df_val['final_price']\n",
    "del df_test['final_price']"
   ]
  },
  {
   "cell_type": "code",
   "execution_count": 39,
   "id": "a0d98923",
   "metadata": {},
   "outputs": [],
   "source": [
    "### reset the index\n",
    "df_train = df_train.reset_index(drop=True)\n",
    "df_val = df_val.reset_index(drop=True)\n",
    "df_test = df_test.reset_index(drop=True)"
   ]
  },
  {
   "cell_type": "code",
   "execution_count": 40,
   "id": "d3b82929",
   "metadata": {},
   "outputs": [
    {
     "data": {
      "text/plain": [
       "array([[  8. , 256. ,  13. ],\n",
       "       [  8. , 512. ,  15.6],\n",
       "       [  8. ,  64. ,  17.3],\n",
       "       ...,\n",
       "       [ 16. , 512. ,  15.6],\n",
       "       [  8. , 512. ,  15.6],\n",
       "       [ 16. , 512. ,  14. ]], shape=(1296, 3))"
      ]
     },
     "execution_count": 40,
     "metadata": {},
     "output_type": "execute_result"
    }
   ],
   "source": [
    "X_train = df_train.values\n",
    "X_train"
   ]
  },
  {
   "cell_type": "code",
   "execution_count": 41,
   "id": "94578c9b",
   "metadata": {},
   "outputs": [],
   "source": [
    "X_val = df_val.values\n",
    "X_test = df_test.values"
   ]
  },
  {
   "cell_type": "code",
   "execution_count": 42,
   "id": "f8250540",
   "metadata": {},
   "outputs": [
    {
     "data": {
      "text/plain": [
       "array([ 671.79972671, 1777.09759824, 1252.42819037, 1729.73645555,\n",
       "        766.5220121 , 1771.17745541, 1777.09759824, 1794.85802675,\n",
       "       1240.69110189,  731.00115508, 4638.92940427, 1252.42819037,\n",
       "       1320.509833  , 1797.81809817,  922.19094779, 1777.09759824,\n",
       "       1252.42819037, 1729.73645555,  703.51141809, 1252.42819037,\n",
       "       1299.78933307,  922.19094779, 1714.19933166,  499.88835162,\n",
       "       1729.73645555,  381.48549488, 2390.21094072,  719.16086941,\n",
       "       1299.78933307, 1679.41524143,  922.19094779,  922.19094779,\n",
       "        671.79972671,  671.79972671, 1299.78933307,  969.55209048,\n",
       "       1252.42819037, 2339.8897266 , 1777.09759824,  922.19094779,\n",
       "        969.55209048,  969.55209048, 1317.54976158, 1252.42819037,\n",
       "       2339.8897266 , 1299.78933307,  671.79972671, 2378.37065504,\n",
       "        922.19094779,  405.99164372,  922.19094779, 1299.78933307,\n",
       "        957.815002  ,  922.19094779, 1729.73645555, 1729.73645555,\n",
       "       2437.57208341, 1252.42819037, 2348.76994086, 2390.21094072,\n",
       "       1252.42819037, 1320.509833  ,  671.79972671, 3356.46136237,\n",
       "       1299.78933307, 1252.42819037, 2390.21094072, 1299.78933307,\n",
       "        922.19094779, 2390.21094072,  506.68110542, 1729.73645555,\n",
       "       1252.42819037, 1777.09759824, 1399.49921296, 1717.89616987,\n",
       "       1240.69110189,  922.19094779,  907.3905907 , 1252.42819037,\n",
       "        922.19094779, 1299.78933307,  969.55209048,  922.19094779,\n",
       "       1252.42819037, 1729.73645555, 1287.94904739, 1679.41524143,\n",
       "       1299.78933307,  671.79972671, 2390.21094072, 3317.98043393,\n",
       "       1320.509833  , 1299.78933307,  922.19094779, 1299.78933307,\n",
       "       1202.10697626, 1252.42819037, 1729.73645555,  969.55209048,\n",
       "       1007.95711213,  922.19094779,  739.88136934, 2348.76994086,\n",
       "        671.79972671,  671.79972671, 1320.509833  ,  984.35244758,\n",
       "        318.88768961,  922.19094779, 4638.92940427, 1729.73645555,\n",
       "        671.79972671,  531.3674536 ,  719.16086941, 1729.73645555,\n",
       "       2372.45051221,  990.27259041, 1729.73645555,  910.4538593 ,\n",
       "       1237.62783328,  922.19094779,  671.79972671,  922.19094779,\n",
       "        969.55209048, 1299.78933307,  671.79972671, 1797.81809817,\n",
       "       1794.85802675,  969.55209048, 3356.46136237,  671.79972671,\n",
       "       2390.21094072, 1037.55782632, 2437.57208341, 1777.09759824,\n",
       "        922.19094779, 2378.37065504, 1777.09759824,  719.16086941,\n",
       "        922.19094779,  922.19094779,  719.16086941, 1210.98719051,\n",
       "       1350.11054718, 1299.78933307, 2378.37065504, 2390.21094072,\n",
       "        907.3905907 , 1210.98719051, 1252.42819037, 1777.09759824,\n",
       "       1729.73645555,  922.19094779, 2339.8897266 , 1299.78933307,\n",
       "       1717.89616987, 1299.78933307, 1252.42819037, 2378.37065504,\n",
       "       1252.42819037, 2378.37065504,  922.19094779,  922.19094779,\n",
       "        428.84663758, 2378.37065504,  922.19094779, 1202.10697626,\n",
       "       1299.78933307, 4647.80961853, 2390.21094072, 1717.89616987,\n",
       "       2339.8897266 , 1237.62783328, 1252.42819037, 1252.42819037,\n",
       "        671.79972671,  719.16086941, 1729.73645555,  671.79972671,\n",
       "        719.16086941,  531.3674536 , 1252.42819037,  922.19094779,\n",
       "        671.79972671,  716.20079799, 1288.05224458, 1729.73645555,\n",
       "       1299.78933307,  922.19094779, 2348.76994086, 1252.42819037,\n",
       "       1729.73645555, 1679.41524143, 1777.09759824, 1252.42819037,\n",
       "       3356.46136237, 1252.42819037, 1299.78933307, 1202.10697626,\n",
       "       2378.37065504, 3326.86064818, 1252.42819037, 2378.37065504,\n",
       "       1240.69110189,  499.88835162, 1240.5879047 , 2390.21094072,\n",
       "       2339.8897266 , 2339.8897266 , 2390.21094072,  671.79972671,\n",
       "        671.79972671,  671.79972671, 1252.42819037, 1252.42819037,\n",
       "       1777.09759824,  922.19094779,  907.3905907 , 1252.42819037,\n",
       "        990.27259041,  671.79972671, 1299.78933307, 1252.42819037,\n",
       "        922.19094779, 3368.30164804, 1252.42819037, 1320.509833  ,\n",
       "       1777.09759824,  922.19094779,  671.79972671, 2339.8897266 ,\n",
       "       1777.09759824,  671.79972671,  671.79972671, 1317.54976158,\n",
       "       2319.16922668, 2378.37065504, 1777.09759824, 1288.05224458,\n",
       "        922.19094779, 1311.62961874,  671.79972671, 2339.8897266 ,\n",
       "       2339.8897266 , 1252.42819037, 1002.0369693 ,  671.79972671,\n",
       "       2390.21094072,  500.06855097, 1087.30956908, 1070.11861192,\n",
       "        922.19094779, 1252.42819037, 1202.10697626, 1240.69110189,\n",
       "        922.19094779, 1299.78933307, 1729.73645555,  922.19094779,\n",
       "        748.76158359,  671.79972671, 1771.17745541, 1871.46167569,\n",
       "        719.16086941, 1237.62783328, 1329.39004725, 1049.39811199,\n",
       "       1252.42819037,  671.79972671,  922.19094779,  719.16086941,\n",
       "        922.19094779, 1299.78933307,  593.96525887, 1729.73645555,\n",
       "        836.91834801,  990.27259041, 2378.37065504, 1299.78933307,\n",
       "       1729.73645555, 1240.5879047 ,  922.19094779, 1210.98719051,\n",
       "        697.56775852, 1777.09759824, 1252.42819037, 2390.21094072,\n",
       "        671.79972671, 1252.42819037,  922.19094779, 1252.42819037,\n",
       "        593.96525887,  922.19094779, 2348.76994086, 1729.73645555,\n",
       "        910.35066211, 1252.42819037,  922.19094779,  922.19094779,\n",
       "        671.79972671, 1679.41524143, 1252.42819037, 1679.41524143,\n",
       "       1252.42819037, 1252.42819037, 1299.78933307, 1252.42819037,\n",
       "        614.6857588 , 1237.62783328, 1717.89616987, 1679.41524143,\n",
       "       1711.97602704, 1729.73645555, 2425.73179774,  671.79972671,\n",
       "        614.6857588 ,  922.19094779,  739.88136934, 1252.42819037,\n",
       "        386.96933224, 2431.65194058, 1252.42819037, 1284.98897598,\n",
       "       2339.8897266 , 1729.73645555,  731.00115508,  922.19094779,\n",
       "       1729.73645555, 1240.5879047 ,  671.79972671, 2378.37065504,\n",
       "        593.96525887, 1099.71932611, 1314.58969016, 2431.65194058,\n",
       "       1252.42819037, 2339.8897266 , 2390.21094072,  593.96525887,\n",
       "        671.79972671,  719.16086941, 1954.3436754 ,  546.60411618,\n",
       "        671.79972671,  719.16086941, 1252.42819037,  671.79972671,\n",
       "       1777.09759824,  671.79972671, 1729.73645555,  671.79972671,\n",
       "        671.79972671, 1252.42819037, 1293.86919023, 1729.73645555,\n",
       "       1320.509833  , 1252.42819037, 1729.73645555,  428.84663758,\n",
       "       1252.42819037, 1252.42819037, 1252.42819037, 1252.42819037,\n",
       "        719.16086941,  671.79972671, 2437.57208341,  671.79972671,\n",
       "       1729.73645555, 1777.09759824,  531.3674536 , 1729.73645555,\n",
       "        546.60411618, 1287.94904739,  792.6963807 ,  990.27259041,\n",
       "        552.08795353,  531.3674536 ,  731.00115508, 1049.39811199,\n",
       "        366.24883231, 1299.78933307, 1252.42819037, 1912.90267554,\n",
       "       2437.57208341, 1240.5879047 ,  739.88136934,  719.16086941,\n",
       "       1202.10697626,  719.16086941,  671.79972671,  671.79972671,\n",
       "       2390.21094072,  922.19094779, 1252.42819037, 1299.78933307,\n",
       "        500.06855097, 1679.41524143, 1729.73645555,  922.19094779,\n",
       "       1252.42819037,  614.6857588 , 1202.10697626, 1288.05224458,\n",
       "       1252.42819037,  969.55209048,  748.76158359, 1252.42819037,\n",
       "       1202.10697626, 2339.8897266 , 1777.09759824,  405.99164372,\n",
       "       2378.37065504, 1729.73645555, 4647.80961853,  922.19094779,\n",
       "       1202.10697626, 1299.78933307,  871.86973367, 1679.41524143,\n",
       "        671.79972671, 2390.21094072,  990.27259041, 1252.42819037,\n",
       "        822.76336905, 1252.42819037,  922.19094779,  922.19094779,\n",
       "       2390.21094072,  969.55209048, 1729.73645555, 1237.62783328])"
      ]
     },
     "execution_count": 42,
     "metadata": {},
     "output_type": "execute_result"
    }
   ],
   "source": [
    "from sklearn.linear_model import LinearRegression\n",
    "### Train the Linear Regression\n",
    "lr_na_zero = LinearRegression()\n",
    "lr_na_zero.fit(X_train, y_train)\n",
    "y_pred = lr_na_zero.predict(X_val)\n",
    "y_pred"
   ]
  },
  {
   "cell_type": "code",
   "execution_count": null,
   "id": "563ccdd0",
   "metadata": {},
   "outputs": [
    {
     "data": {
      "text/plain": [
       "np.float64(616.83)"
      ]
     },
     "execution_count": 43,
     "metadata": {},
     "output_type": "execute_result"
    }
   ],
   "source": [
    "### RMSE of Validation vs Training\n",
    "from sklearn.metrics import mean_squared_error\n",
    "rmse_lr_na_zero = round(np.sqrt(mean_squared_error(y_val, y_pred)),2)\n",
    "rmse_lr_na_zero\n",
    "### 616.83"
   ]
  },
  {
   "cell_type": "markdown",
   "id": "62644790",
   "metadata": {},
   "source": [
    "### Case 2: Mean of Training"
   ]
  },
  {
   "cell_type": "code",
   "execution_count": 27,
   "id": "ba335f06",
   "metadata": {},
   "outputs": [],
   "source": [
    "### Split the data into train/val/test\n",
    "from sklearn.model_selection import train_test_split\n",
    "df_full_train, df_test = train_test_split(shuffled_df, test_size=0.2, random_state=42)\n",
    "df_train, df_val = train_test_split(df_full_train, test_size=0.25, random_state=42)\n",
    "\n",
    "### Extract the target vector\n",
    "y_train = df_train.final_price.values\n",
    "y_val = df_val.final_price.values\n",
    "y_test = df_test.final_price.values\n",
    "\n",
    "### remove target column from datasets to avoid accidental usage\n",
    "del df_train['final_price']\n",
    "del df_val['final_price']\n",
    "del df_test['final_price']\n",
    "\n",
    "### reset the index\n",
    "df_train = df_train.reset_index(drop=True)\n",
    "df_val = df_val.reset_index(drop=True)\n",
    "df_test = df_test.reset_index(drop=True)"
   ]
  },
  {
   "cell_type": "code",
   "execution_count": 28,
   "id": "2ee1df51",
   "metadata": {},
   "outputs": [
    {
     "data": {
      "text/plain": [
       "np.int64(2)"
      ]
     },
     "metadata": {},
     "output_type": "display_data"
    },
    {
     "data": {
      "text/plain": [
       "np.int64(1)"
      ]
     },
     "metadata": {},
     "output_type": "display_data"
    },
    {
     "data": {
      "text/plain": [
       "np.int64(1)"
      ]
     },
     "metadata": {},
     "output_type": "display_data"
    }
   ],
   "source": [
    "### Count missing Screen in each df \n",
    "from IPython.display import display\n",
    "\n",
    "display(df_train.screen.isnull().sum()) \n",
    "display(df_val.screen.isnull().sum())\n",
    "display(df_test.screen.isnull().sum())"
   ]
  },
  {
   "cell_type": "code",
   "execution_count": 29,
   "id": "85dd71b8",
   "metadata": {},
   "outputs": [
    {
     "data": {
      "text/plain": [
       "np.float64(15.179598145285937)"
      ]
     },
     "execution_count": 29,
     "metadata": {},
     "output_type": "execute_result"
    }
   ],
   "source": [
    "screen_mean = df_train.screen.mean()\n",
    "screen_mean"
   ]
  },
  {
   "cell_type": "code",
   "execution_count": 30,
   "id": "ba84a80d",
   "metadata": {},
   "outputs": [],
   "source": [
    "df_train.screen = df_train.screen.fillna(screen_mean)\n",
    "df_val.screen = df_val.screen.fillna(screen_mean)\n",
    "df_test.screen = df_test.screen.fillna(screen_mean)"
   ]
  },
  {
   "cell_type": "code",
   "execution_count": 31,
   "id": "2180a94f",
   "metadata": {},
   "outputs": [
    {
     "data": {
      "text/plain": [
       "np.int64(0)"
      ]
     },
     "metadata": {},
     "output_type": "display_data"
    },
    {
     "data": {
      "text/plain": [
       "np.int64(0)"
      ]
     },
     "metadata": {},
     "output_type": "display_data"
    },
    {
     "data": {
      "text/plain": [
       "np.int64(0)"
      ]
     },
     "metadata": {},
     "output_type": "display_data"
    }
   ],
   "source": [
    "### Check if there are any missing Screen in each df \n",
    "from IPython.display import display\n",
    "\n",
    "display(df_train.screen.isnull().sum()) \n",
    "display(df_val.screen.isnull().sum())\n",
    "display(df_test.screen.isnull().sum())"
   ]
  },
  {
   "cell_type": "code",
   "execution_count": 32,
   "id": "3d658437",
   "metadata": {},
   "outputs": [],
   "source": [
    "### Extract the Feature Matrices\n",
    "X_train = df_train.values\n",
    "X_val = df_val.values\n",
    "X_test = df_test.values"
   ]
  },
  {
   "cell_type": "code",
   "execution_count": 33,
   "id": "89d87583",
   "metadata": {},
   "outputs": [
    {
     "data": {
      "text/plain": [
       "array([ 675.09713469, 1773.06972761, 1254.51071281, 1729.8097131 ,\n",
       "        761.61716371, 1767.66222579, 1773.06972761, 1789.29223305,\n",
       "       1242.82303248,  729.17215283, 4638.27769479, 1254.51071281,\n",
       "       1316.69698367, 1791.99598396,  924.43431517, 1773.06972761,\n",
       "       1254.51071281, 1729.8097131 ,  702.77357542, 1254.51071281,\n",
       "       1297.77072732,  924.43431517, 1265.87733177,  493.54038191,\n",
       "       1729.8097131 ,  385.39034563, 2389.96250839,  718.3571492 ,\n",
       "       1297.77072732, 1683.84594768,  924.43431517,  924.43431517,\n",
       "        675.09713469,  675.09713469, 1297.77072732,  967.69432968,\n",
       "       1254.51071281, 2343.99874297, 1773.06972761,  924.43431517,\n",
       "        967.69432968,  967.69432968, 1313.99323277, 1254.51071281,\n",
       "       2343.99874297, 1297.77072732,  675.09713469, 2379.14750476,\n",
       "        924.43431517,  400.03893923,  924.43431517, 1297.77072732,\n",
       "        956.00664934,  924.43431517, 1729.8097131 , 1729.8097131 ,\n",
       "       2433.2225229 , 1254.51071281, 2352.10999569, 2389.96250839,\n",
       "       1254.51071281, 1316.69698367,  675.09713469, 3353.120866  ,\n",
       "       1297.77072732, 1254.51071281, 2389.96250839, 1297.77072732,\n",
       "        924.43431517, 2389.96250839,  510.05893587, 1729.8097131 ,\n",
       "       1254.51071281, 1773.06972761, 1399.73331545, 1718.99470947,\n",
       "       1242.82303248,  924.43431517,  910.91556063, 1254.51071281,\n",
       "        924.43431517, 1297.77072732,  967.69432968,  924.43431517,\n",
       "       1254.51071281, 1729.8097131 , 1286.9557237 , 1683.84594768,\n",
       "       1297.77072732,  675.09713469, 2389.96250839, 3317.97210421,\n",
       "       1316.69698367, 1297.77072732,  924.43431517, 1297.77072732,\n",
       "       1208.54694739, 1254.51071281, 1729.8097131 ,  967.69432968,\n",
       "       1010.58103415,  924.43431517,  737.28340555, 2352.10999569,\n",
       "        675.09713469,  675.09713469, 1316.69698367,  981.21308421,\n",
       "        323.05605051,  924.43431517, 4638.27769479, 1729.8097131 ,\n",
       "        675.09713469,  531.35426384,  718.3571492 , 1729.8097131 ,\n",
       "       2373.74000295,  986.62058603, 1729.8097131 ,  912.74663483,\n",
       "       1240.99195828,  924.43431517,  675.09713469,  924.43431517,\n",
       "        967.69432968, 1297.77072732,  675.09713469, 1791.99598396,\n",
       "       1789.29223305,  967.69432968, 3353.120866  ,  675.09713469,\n",
       "       2389.96250839, 1037.61854322, 2433.2225229 , 1773.06972761,\n",
       "        924.43431517, 2379.14750476, 1773.06972761,  718.3571492 ,\n",
       "        924.43431517,  924.43431517,  718.3571492 , 1216.65820011,\n",
       "       1343.73449274, 1297.77072732, 2379.14750476, 2389.96250839,\n",
       "        910.91556063, 1216.65820011, 1254.51071281, 1773.06972761,\n",
       "       1729.8097131 ,  924.43431517, 2343.99874297, 1297.77072732,\n",
       "       1718.99470947, 1297.77072732, 1254.51071281, 2379.14750476,\n",
       "       1254.51071281, 2379.14750476,  924.43431517,  924.43431517,\n",
       "        428.65036014, 2379.14750476,  924.43431517, 1208.54694739,\n",
       "       1297.77072732, 4646.38894751, 2389.96250839, 1718.99470947,\n",
       "       2343.99874297, 1240.99195828, 1254.51071281, 1254.51071281,\n",
       "        675.09713469,  718.3571492 , 1729.8097131 ,  675.09713469,\n",
       "        718.3571492 ,  531.35426384, 1254.51071281,  924.43431517,\n",
       "        675.09713469,  715.6533983 , 1286.08304699, 1729.8097131 ,\n",
       "       1297.77072732,  924.43431517, 2352.10999569, 1254.51071281,\n",
       "       1729.8097131 , 1683.84594768, 1773.06972761, 1254.51071281,\n",
       "       3353.120866  , 1254.51071281, 1297.77072732, 1208.54694739,\n",
       "       2379.14750476, 3326.08335693, 1254.51071281, 2379.14750476,\n",
       "       1242.82303248,  493.54038191, 1243.69570918, 2389.96250839,\n",
       "       2343.99874297, 2343.99874297, 2389.96250839,  675.09713469,\n",
       "        675.09713469,  675.09713469, 1254.51071281, 1254.51071281,\n",
       "       1773.06972761,  924.43431517,  910.91556063, 1254.51071281,\n",
       "        986.62058603,  675.09713469, 1297.77072732, 1254.51071281,\n",
       "        924.43431517, 3363.93586962, 1254.51071281, 1316.69698367,\n",
       "       1773.06972761,  924.43431517,  675.09713469, 2343.99874297,\n",
       "       1773.06972761,  675.09713469,  675.09713469, 1313.99323277,\n",
       "       2325.07248662, 2379.14750476, 1773.06972761, 1286.08304699,\n",
       "        924.43431517, 1308.58573095,  675.09713469, 2343.99874297,\n",
       "       2343.99874297, 1254.51071281, 1005.17353234,  675.09713469,\n",
       "       2389.96250839,  500.18711629, 1089.47251399, 1067.3598032 ,\n",
       "        924.43431517, 1254.51071281, 1208.54694739, 1242.82303248,\n",
       "        924.43431517, 1297.77072732, 1729.8097131 ,  924.43431517,\n",
       "        745.39465827,  675.09713469, 1767.66222579, 1876.81099541,\n",
       "        718.3571492 , 1240.99195828, 1324.80823639, 1048.43354685,\n",
       "       1254.51071281,  675.09713469,  924.43431517,  718.3571492 ,\n",
       "        924.43431517, 1297.77072732,  593.68855896, 1729.8097131 ,\n",
       "        840.13533351,  986.62058603, 2379.14750476, 1297.77072732,\n",
       "       1729.8097131 , 1243.69570918,  924.43431517, 1216.65820011,\n",
       "        688.31984071, 1773.06972761, 1254.51071281, 2389.96250839,\n",
       "        675.09713469, 1254.51071281,  924.43431517, 1254.51071281,\n",
       "        593.68855896,  924.43431517, 2352.10999569, 1729.8097131 ,\n",
       "        913.61931154, 1254.51071281,  924.43431517,  924.43431517,\n",
       "        675.09713469, 1683.84594768, 1254.51071281, 1683.84594768,\n",
       "       1254.51071281, 1254.51071281, 1297.77072732, 1254.51071281,\n",
       "        612.61481531, 1240.99195828, 1718.99470947, 1683.84594768,\n",
       "       1713.58720765, 1729.8097131 , 2422.40751927,  675.09713469,\n",
       "        612.61481531,  924.43431517,  737.28340555, 1254.51071281,\n",
       "        385.24232137, 2427.81502109, 1254.51071281, 1284.25197279,\n",
       "       2343.99874297, 1729.8097131 ,  729.17215283,  924.43431517,\n",
       "       1729.8097131 , 1243.69570918,  675.09713469, 2379.14750476,\n",
       "        593.68855896, 1094.39731227, 1311.28948186, 2427.81502109,\n",
       "       1254.51071281, 2343.99874297, 2389.96250839,  593.68855896,\n",
       "        675.09713469,  718.3571492 , 1952.5160208 ,  550.42854445,\n",
       "        675.09713469,  718.3571492 , 1254.51071281,  675.09713469,\n",
       "       1773.06972761,  675.09713469, 1729.8097131 ,  675.09713469,\n",
       "        675.09713469, 1254.51071281, 1292.36322551, 1729.8097131 ,\n",
       "       1316.69698367, 1254.51071281, 1729.8097131 ,  428.65036014,\n",
       "       1254.51071281, 1254.51071281, 1254.51071281, 1254.51071281,\n",
       "        718.3571492 ,  675.09713469, 2433.2225229 ,  675.09713469,\n",
       "       1729.8097131 , 1773.06972761,  531.35426384, 1729.8097131 ,\n",
       "        550.42854445, 1286.9557237 ,  790.96845052,  986.62058603,\n",
       "        550.28052019,  531.35426384,  729.17215283, 1048.43354685,\n",
       "        366.31606502, 1297.77072732, 1254.51071281, 1914.6635081 ,\n",
       "       2433.2225229 , 1243.69570918,  737.28340555,  718.3571492 ,\n",
       "       1208.54694739,  718.3571492 ,  675.09713469,  675.09713469,\n",
       "       2389.96250839,  924.43431517, 1254.51071281, 1297.77072732,\n",
       "        500.18711629, 1683.84594768, 1729.8097131 ,  924.43431517,\n",
       "       1254.51071281,  612.61481531, 1208.54694739, 1286.08304699,\n",
       "       1254.51071281,  967.69432968,  745.39465827, 1254.51071281,\n",
       "       1208.54694739, 2343.99874297, 1773.06972761,  400.03893923,\n",
       "       2379.14750476, 1729.8097131 , 4646.38894751,  924.43431517,\n",
       "       1208.54694739, 1297.77072732,  878.47054975, 1683.84594768,\n",
       "        675.09713469, 2389.96250839,  986.62058603, 1254.51071281,\n",
       "        812.98843095, 1254.51071281,  924.43431517,  924.43431517,\n",
       "       2389.96250839,  967.69432968, 1729.8097131 , 1240.99195828])"
      ]
     },
     "execution_count": 33,
     "metadata": {},
     "output_type": "execute_result"
    }
   ],
   "source": [
    "from sklearn.linear_model import LinearRegression\n",
    "### Train the Linear Regression\n",
    "lr_na_mean = LinearRegression()\n",
    "lr_na_mean.fit(X_train, y_train)\n",
    "y_pred = lr_na_mean.predict(X_val)\n",
    "y_pred"
   ]
  },
  {
   "cell_type": "code",
   "execution_count": null,
   "id": "0391b075",
   "metadata": {},
   "outputs": [
    {
     "data": {
      "text/plain": [
       "np.float64(617.13)"
      ]
     },
     "execution_count": 36,
     "metadata": {},
     "output_type": "execute_result"
    }
   ],
   "source": [
    "### RMSE of Validation vs Training\n",
    "from sklearn.metrics import mean_squared_error\n",
    "rmse_lr_na_mean = round(np.sqrt(mean_squared_error(y_val, y_pred)),2)\n",
    "rmse_lr_na_mean\n",
    "### 617.13"
   ]
  },
  {
   "cell_type": "markdown",
   "id": "72fed80d",
   "metadata": {},
   "source": [
    "### A3: With 0, RMSE is better"
   ]
  },
  {
   "cell_type": "markdown",
   "id": "e300c30a",
   "metadata": {},
   "source": [
    "### Question 4\n",
    "- Now let's train a regularized linear regression.\n",
    "- For this question, fill the NAs with 0.\n",
    "- Try different values of r from this list: [0, 0.01, 0.1, 1, 5, 10, 100].\n",
    "- Use RMSE to evaluate the model on the validation dataset.\n",
    "- Round the RMSE scores to 2 decimal digits.\n",
    "- Which r gives the best RMSE?\n",
    "- If there are multiple options, select the smallest r.\n",
    "\n",
    "Options:\n",
    "\n",
    "- 0\n",
    "- 0.01\n",
    "- 1\n",
    "- 10\n",
    "- 100"
   ]
  },
  {
   "cell_type": "code",
   "execution_count": 44,
   "id": "343ad7c7",
   "metadata": {},
   "outputs": [
    {
     "data": {
      "text/plain": [
       "np.int64(0)"
      ]
     },
     "execution_count": 44,
     "metadata": {},
     "output_type": "execute_result"
    }
   ],
   "source": [
    "shuffled_df_na_zero = shuffled_df.fillna(0)\n",
    "shuffled_df_na_zero.screen.isnull().sum()"
   ]
  },
  {
   "cell_type": "code",
   "execution_count": 45,
   "id": "a26f5feb",
   "metadata": {},
   "outputs": [],
   "source": [
    "### Split the data into train/val/test\n",
    "from sklearn.model_selection import train_test_split\n",
    "df_full_train, df_test = train_test_split(shuffled_df_na_zero, test_size=0.2, random_state=42)\n",
    "df_train, df_val = train_test_split(df_full_train, test_size=0.25, random_state=42)\n",
    "\n",
    "### Extract the target vector\n",
    "y_train = df_train.final_price.values\n",
    "y_val = df_val.final_price.values\n",
    "y_test = df_test.final_price.values\n",
    "\n",
    "### remove target column from datasets to avoid accidental usage\n",
    "del df_train['final_price']\n",
    "del df_val['final_price']\n",
    "del df_test['final_price']\n",
    "\n",
    "### reset the index\n",
    "df_train = df_train.reset_index(drop=True)\n",
    "df_val = df_val.reset_index(drop=True)\n",
    "df_test = df_test.reset_index(drop=True)"
   ]
  },
  {
   "cell_type": "code",
   "execution_count": 46,
   "id": "5d5d3543",
   "metadata": {},
   "outputs": [],
   "source": [
    "### Extract the Feature Matrices\n",
    "X_train = df_train.values\n",
    "X_val = df_val.values\n",
    "X_test = df_test.values"
   ]
  },
  {
   "cell_type": "code",
   "execution_count": 49,
   "id": "63574046",
   "metadata": {},
   "outputs": [
    {
     "data": {
      "text/plain": [
       "array([ 671.79972671, 1777.09759824, 1252.42819037, 1729.73645555,\n",
       "        766.5220121 , 1771.17745541, 1777.09759824, 1794.85802675,\n",
       "       1240.69110189,  731.00115508, 4638.92940427, 1252.42819037,\n",
       "       1320.509833  , 1797.81809817,  922.19094779, 1777.09759824,\n",
       "       1252.42819037, 1729.73645555,  703.51141809, 1252.42819037,\n",
       "       1299.78933307,  922.19094779, 1714.19933166,  499.88835162,\n",
       "       1729.73645555,  381.48549488, 2390.21094072,  719.16086941,\n",
       "       1299.78933307, 1679.41524143,  922.19094779,  922.19094779,\n",
       "        671.79972671,  671.79972671, 1299.78933307,  969.55209048,\n",
       "       1252.42819037, 2339.8897266 , 1777.09759824,  922.19094779,\n",
       "        969.55209048,  969.55209048, 1317.54976158, 1252.42819037,\n",
       "       2339.8897266 , 1299.78933307,  671.79972671, 2378.37065504,\n",
       "        922.19094779,  405.99164372,  922.19094779, 1299.78933307,\n",
       "        957.815002  ,  922.19094779, 1729.73645555, 1729.73645555,\n",
       "       2437.57208341, 1252.42819037, 2348.76994086, 2390.21094072,\n",
       "       1252.42819037, 1320.509833  ,  671.79972671, 3356.46136237,\n",
       "       1299.78933307, 1252.42819037, 2390.21094072, 1299.78933307,\n",
       "        922.19094779, 2390.21094072,  506.68110542, 1729.73645555,\n",
       "       1252.42819037, 1777.09759824, 1399.49921296, 1717.89616987,\n",
       "       1240.69110189,  922.19094779,  907.3905907 , 1252.42819037,\n",
       "        922.19094779, 1299.78933307,  969.55209048,  922.19094779,\n",
       "       1252.42819037, 1729.73645555, 1287.94904739, 1679.41524143,\n",
       "       1299.78933307,  671.79972671, 2390.21094072, 3317.98043393,\n",
       "       1320.509833  , 1299.78933307,  922.19094779, 1299.78933307,\n",
       "       1202.10697626, 1252.42819037, 1729.73645555,  969.55209048,\n",
       "       1007.95711213,  922.19094779,  739.88136934, 2348.76994086,\n",
       "        671.79972671,  671.79972671, 1320.509833  ,  984.35244758,\n",
       "        318.88768961,  922.19094779, 4638.92940427, 1729.73645555,\n",
       "        671.79972671,  531.3674536 ,  719.16086941, 1729.73645555,\n",
       "       2372.45051221,  990.27259041, 1729.73645555,  910.4538593 ,\n",
       "       1237.62783328,  922.19094779,  671.79972671,  922.19094779,\n",
       "        969.55209048, 1299.78933307,  671.79972671, 1797.81809817,\n",
       "       1794.85802675,  969.55209048, 3356.46136237,  671.79972671,\n",
       "       2390.21094072, 1037.55782632, 2437.57208341, 1777.09759824,\n",
       "        922.19094779, 2378.37065504, 1777.09759824,  719.16086941,\n",
       "        922.19094779,  922.19094779,  719.16086941, 1210.98719051,\n",
       "       1350.11054718, 1299.78933307, 2378.37065504, 2390.21094072,\n",
       "        907.3905907 , 1210.98719051, 1252.42819037, 1777.09759824,\n",
       "       1729.73645555,  922.19094779, 2339.8897266 , 1299.78933307,\n",
       "       1717.89616987, 1299.78933307, 1252.42819037, 2378.37065504,\n",
       "       1252.42819037, 2378.37065504,  922.19094779,  922.19094779,\n",
       "        428.84663758, 2378.37065504,  922.19094779, 1202.10697626,\n",
       "       1299.78933307, 4647.80961853, 2390.21094072, 1717.89616987,\n",
       "       2339.8897266 , 1237.62783328, 1252.42819037, 1252.42819037,\n",
       "        671.79972671,  719.16086941, 1729.73645555,  671.79972671,\n",
       "        719.16086941,  531.3674536 , 1252.42819037,  922.19094779,\n",
       "        671.79972671,  716.20079799, 1288.05224458, 1729.73645555,\n",
       "       1299.78933307,  922.19094779, 2348.76994086, 1252.42819037,\n",
       "       1729.73645555, 1679.41524143, 1777.09759824, 1252.42819037,\n",
       "       3356.46136237, 1252.42819037, 1299.78933307, 1202.10697626,\n",
       "       2378.37065504, 3326.86064818, 1252.42819037, 2378.37065504,\n",
       "       1240.69110189,  499.88835162, 1240.5879047 , 2390.21094072,\n",
       "       2339.8897266 , 2339.8897266 , 2390.21094072,  671.79972671,\n",
       "        671.79972671,  671.79972671, 1252.42819037, 1252.42819037,\n",
       "       1777.09759824,  922.19094779,  907.3905907 , 1252.42819037,\n",
       "        990.27259041,  671.79972671, 1299.78933307, 1252.42819037,\n",
       "        922.19094779, 3368.30164804, 1252.42819037, 1320.509833  ,\n",
       "       1777.09759824,  922.19094779,  671.79972671, 2339.8897266 ,\n",
       "       1777.09759824,  671.79972671,  671.79972671, 1317.54976158,\n",
       "       2319.16922668, 2378.37065504, 1777.09759824, 1288.05224458,\n",
       "        922.19094779, 1311.62961874,  671.79972671, 2339.8897266 ,\n",
       "       2339.8897266 , 1252.42819037, 1002.0369693 ,  671.79972671,\n",
       "       2390.21094072,  500.06855097, 1087.30956908, 1070.11861192,\n",
       "        922.19094779, 1252.42819037, 1202.10697626, 1240.69110189,\n",
       "        922.19094779, 1299.78933307, 1729.73645555,  922.19094779,\n",
       "        748.76158359,  671.79972671, 1771.17745541, 1871.46167569,\n",
       "        719.16086941, 1237.62783328, 1329.39004725, 1049.39811199,\n",
       "       1252.42819037,  671.79972671,  922.19094779,  719.16086941,\n",
       "        922.19094779, 1299.78933307,  593.96525887, 1729.73645555,\n",
       "        836.91834801,  990.27259041, 2378.37065504, 1299.78933307,\n",
       "       1729.73645555, 1240.5879047 ,  922.19094779, 1210.98719051,\n",
       "        697.56775852, 1777.09759824, 1252.42819037, 2390.21094072,\n",
       "        671.79972671, 1252.42819037,  922.19094779, 1252.42819037,\n",
       "        593.96525887,  922.19094779, 2348.76994086, 1729.73645555,\n",
       "        910.35066211, 1252.42819037,  922.19094779,  922.19094779,\n",
       "        671.79972671, 1679.41524143, 1252.42819037, 1679.41524143,\n",
       "       1252.42819037, 1252.42819037, 1299.78933307, 1252.42819037,\n",
       "        614.6857588 , 1237.62783328, 1717.89616987, 1679.41524143,\n",
       "       1711.97602704, 1729.73645555, 2425.73179774,  671.79972671,\n",
       "        614.6857588 ,  922.19094779,  739.88136934, 1252.42819037,\n",
       "        386.96933224, 2431.65194058, 1252.42819037, 1284.98897598,\n",
       "       2339.8897266 , 1729.73645555,  731.00115508,  922.19094779,\n",
       "       1729.73645555, 1240.5879047 ,  671.79972671, 2378.37065504,\n",
       "        593.96525887, 1099.71932611, 1314.58969016, 2431.65194058,\n",
       "       1252.42819037, 2339.8897266 , 2390.21094072,  593.96525887,\n",
       "        671.79972671,  719.16086941, 1954.3436754 ,  546.60411618,\n",
       "        671.79972671,  719.16086941, 1252.42819037,  671.79972671,\n",
       "       1777.09759824,  671.79972671, 1729.73645555,  671.79972671,\n",
       "        671.79972671, 1252.42819037, 1293.86919023, 1729.73645555,\n",
       "       1320.509833  , 1252.42819037, 1729.73645555,  428.84663758,\n",
       "       1252.42819037, 1252.42819037, 1252.42819037, 1252.42819037,\n",
       "        719.16086941,  671.79972671, 2437.57208341,  671.79972671,\n",
       "       1729.73645555, 1777.09759824,  531.3674536 , 1729.73645555,\n",
       "        546.60411618, 1287.94904739,  792.6963807 ,  990.27259041,\n",
       "        552.08795353,  531.3674536 ,  731.00115508, 1049.39811199,\n",
       "        366.24883231, 1299.78933307, 1252.42819037, 1912.90267554,\n",
       "       2437.57208341, 1240.5879047 ,  739.88136934,  719.16086941,\n",
       "       1202.10697626,  719.16086941,  671.79972671,  671.79972671,\n",
       "       2390.21094072,  922.19094779, 1252.42819037, 1299.78933307,\n",
       "        500.06855097, 1679.41524143, 1729.73645555,  922.19094779,\n",
       "       1252.42819037,  614.6857588 , 1202.10697626, 1288.05224458,\n",
       "       1252.42819037,  969.55209048,  748.76158359, 1252.42819037,\n",
       "       1202.10697626, 2339.8897266 , 1777.09759824,  405.99164372,\n",
       "       2378.37065504, 1729.73645555, 4647.80961853,  922.19094779,\n",
       "       1202.10697626, 1299.78933307,  871.86973367, 1679.41524143,\n",
       "        671.79972671, 2390.21094072,  990.27259041, 1252.42819037,\n",
       "        822.76336905, 1252.42819037,  922.19094779,  922.19094779,\n",
       "       2390.21094072,  969.55209048, 1729.73645555, 1237.62783328])"
      ]
     },
     "execution_count": 49,
     "metadata": {},
     "output_type": "execute_result"
    }
   ],
   "source": [
    "from sklearn.linear_model import Ridge\n",
    "### Train the Ridge Regression\n",
    "rr_na_zero = Ridge(alpha=0)\n",
    "rr_na_zero.fit(X_train, y_train)\n",
    "y_pred = rr_na_zero.predict(X_val)\n",
    "y_pred"
   ]
  },
  {
   "cell_type": "code",
   "execution_count": 50,
   "id": "25c72228",
   "metadata": {},
   "outputs": [
    {
     "data": {
      "text/plain": [
       "np.float64(616.83)"
      ]
     },
     "execution_count": 50,
     "metadata": {},
     "output_type": "execute_result"
    }
   ],
   "source": [
    "### RMSE of Validation vs Training\n",
    "from sklearn.metrics import mean_squared_error\n",
    "rmse_rr_na_zero = round(np.sqrt(mean_squared_error(y_val, y_pred)),2)\n",
    "rmse_rr_na_zero\n",
    "### 616.83"
   ]
  },
  {
   "cell_type": "code",
   "execution_count": 56,
   "id": "34a1f82f",
   "metadata": {},
   "outputs": [
    {
     "data": {
      "text/plain": [
       "{0: np.float64(616.83),\n",
       " 0.01: np.float64(616.83),\n",
       " 0.1: np.float64(616.83),\n",
       " 1: np.float64(616.83),\n",
       " 5: np.float64(616.84),\n",
       " 10: np.float64(616.84),\n",
       " 100: np.float64(616.98)}"
      ]
     },
     "execution_count": 56,
     "metadata": {},
     "output_type": "execute_result"
    }
   ],
   "source": [
    "r = [0, 0.01, 0.1, 1, 5, 10, 100]\n",
    "\n",
    "rmse_scores = {}\n",
    "\n",
    "for reg in r:\n",
    "    rr_na_zero = Ridge(alpha=reg)\n",
    "    rr_na_zero.fit(X_train, y_train)\n",
    "    y_pred = rr_na_zero.predict(X_val)\n",
    "    rmse_rr_na_zero = round(np.sqrt(mean_squared_error(y_val, y_pred)),2)\n",
    "    rmse_scores[reg] = rmse_rr_na_zero\n",
    "\n",
    "rmse_scores\n"
   ]
  }
 ],
 "metadata": {
  "kernelspec": {
   "display_name": "Python 3",
   "language": "python",
   "name": "python3"
  },
  "language_info": {
   "codemirror_mode": {
    "name": "ipython",
    "version": 3
   },
   "file_extension": ".py",
   "mimetype": "text/x-python",
   "name": "python",
   "nbconvert_exporter": "python",
   "pygments_lexer": "ipython3",
   "version": "3.13.1"
  }
 },
 "nbformat": 4,
 "nbformat_minor": 5
}
